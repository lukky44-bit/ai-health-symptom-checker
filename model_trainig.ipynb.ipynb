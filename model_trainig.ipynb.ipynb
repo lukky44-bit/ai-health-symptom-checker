{
  "nbformat": 4,
  "nbformat_minor": 0,
  "metadata": {
    "colab": {
      "provenance": []
    },
    "kernelspec": {
      "name": "python3",
      "display_name": "Python 3"
    },
    "language_info": {
      "name": "python"
    }
  },
  "cells": [
    {
      "cell_type": "code",
      "execution_count": 16,
      "metadata": {
        "colab": {
          "base_uri": "https://localhost:8080/"
        },
        "id": "JSlPgFf9BSpp",
        "outputId": "bc809f8a-0fe5-462a-fe76-e44e8555a9e1"
      },
      "outputs": [
        {
          "output_type": "stream",
          "name": "stdout",
          "text": [
            "Index(['Disease', 'Symptom_1', 'Symptom_2', 'Symptom_3', 'Symptom_4',\n",
            "       'Symptom_5', 'Symptom_6', 'Symptom_7', 'Symptom_8', 'Symptom_9',\n",
            "       'Symptom_10', 'Symptom_11', 'Symptom_12', 'Symptom_13', 'Symptom_14',\n",
            "       'Symptom_15', 'Symptom_16', 'Symptom_17'],\n",
            "      dtype='object')\n",
            "<class 'pandas.core.frame.DataFrame'>\n",
            "RangeIndex: 4920 entries, 0 to 4919\n",
            "Data columns (total 18 columns):\n",
            " #   Column      Non-Null Count  Dtype \n",
            "---  ------      --------------  ----- \n",
            " 0   Disease     4920 non-null   object\n",
            " 1   Symptom_1   4920 non-null   object\n",
            " 2   Symptom_2   4920 non-null   object\n",
            " 3   Symptom_3   4920 non-null   object\n",
            " 4   Symptom_4   4572 non-null   object\n",
            " 5   Symptom_5   3714 non-null   object\n",
            " 6   Symptom_6   2934 non-null   object\n",
            " 7   Symptom_7   2268 non-null   object\n",
            " 8   Symptom_8   1944 non-null   object\n",
            " 9   Symptom_9   1692 non-null   object\n",
            " 10  Symptom_10  1512 non-null   object\n",
            " 11  Symptom_11  1194 non-null   object\n",
            " 12  Symptom_12  744 non-null    object\n",
            " 13  Symptom_13  504 non-null    object\n",
            " 14  Symptom_14  306 non-null    object\n",
            " 15  Symptom_15  240 non-null    object\n",
            " 16  Symptom_16  192 non-null    object\n",
            " 17  Symptom_17  72 non-null     object\n",
            "dtypes: object(18)\n",
            "memory usage: 692.0+ KB\n",
            "Disease            Fungal infection\n",
            "Symptom_1                   itching\n",
            "Symptom_2                 skin_rash\n",
            "Symptom_3      nodal_skin_eruptions\n",
            "Symptom_4       dischromic _patches\n",
            "Symptom_5                       NaN\n",
            "Symptom_6                       NaN\n",
            "Symptom_7                       NaN\n",
            "Symptom_8                       NaN\n",
            "Symptom_9                       NaN\n",
            "Symptom_10                      NaN\n",
            "Symptom_11                      NaN\n",
            "Symptom_12                      NaN\n",
            "Symptom_13                      NaN\n",
            "Symptom_14                      NaN\n",
            "Symptom_15                      NaN\n",
            "Symptom_16                      NaN\n",
            "Symptom_17                      NaN\n",
            "Name: 0, dtype: object\n"
          ]
        }
      ],
      "source": [
        "# 1. Import Libraries\n",
        "import pandas as pd\n",
        "import numpy as np\n",
        "\n",
        "# 2. Load the Dataset\n",
        "df = pd.read_csv('/content/drive/MyDrive/symptom_checker_project/data/dataset.csv')  # or .xlsx using pd.read_excel\n",
        "\n",
        "# 3. Explore\n",
        "print(df.columns)\n",
        "df.head()\n",
        "df.info()\n",
        "\n",
        "# 4. Clean Nulls & Duplicates\n",
        "#df.drop_duplicates(inplace=True)\n",
        "#df.dropna(inplace=True)\n",
        "\n",
        "# 5. Preview Sample Row\n",
        "print(df.iloc[0])\n"
      ]
    },
    {
      "cell_type": "code",
      "source": [
        "def combine_symptoms(row):\n",
        "    symptoms = [str(symptom).strip() for symptom in row if pd.notna(symptom)]\n",
        "    return \", \".join(symptoms)\n",
        "\n",
        "# Extract symptom columns\n",
        "symptom_data = df.iloc[:, 1:]  # Assuming first column is 'Disease'\n",
        "\n",
        "# Combine all symptom columns into a single string\n",
        "df['symptom_text'] = symptom_data.apply(combine_symptoms, axis=1)\n",
        "\n",
        "# Assign the disease label from the first column\n",
        "df['disease'] = df.iloc[:, 0]\n",
        "\n",
        "# Keep only needed columns\n",
        "df = df[['symptom_text', 'disease']]\n",
        "df.head()\n"
      ],
      "metadata": {
        "colab": {
          "base_uri": "https://localhost:8080/",
          "height": 206
        },
        "id": "A4pql52gDD09",
        "outputId": "fb1b0a15-f7a3-4e48-a1b9-ddab132cec57"
      },
      "execution_count": 17,
      "outputs": [
        {
          "output_type": "execute_result",
          "data": {
            "text/plain": [
              "                                        symptom_text           disease\n",
              "0  itching, skin_rash, nodal_skin_eruptions, disc...  Fungal infection\n",
              "1  skin_rash, nodal_skin_eruptions, dischromic _p...  Fungal infection\n",
              "2  itching, nodal_skin_eruptions, dischromic _pat...  Fungal infection\n",
              "3            itching, skin_rash, dischromic _patches  Fungal infection\n",
              "4           itching, skin_rash, nodal_skin_eruptions  Fungal infection"
            ],
            "text/html": [
              "\n",
              "  <div id=\"df-d4ea6515-2fa9-4467-a090-0659dd192649\" class=\"colab-df-container\">\n",
              "    <div>\n",
              "<style scoped>\n",
              "    .dataframe tbody tr th:only-of-type {\n",
              "        vertical-align: middle;\n",
              "    }\n",
              "\n",
              "    .dataframe tbody tr th {\n",
              "        vertical-align: top;\n",
              "    }\n",
              "\n",
              "    .dataframe thead th {\n",
              "        text-align: right;\n",
              "    }\n",
              "</style>\n",
              "<table border=\"1\" class=\"dataframe\">\n",
              "  <thead>\n",
              "    <tr style=\"text-align: right;\">\n",
              "      <th></th>\n",
              "      <th>symptom_text</th>\n",
              "      <th>disease</th>\n",
              "    </tr>\n",
              "  </thead>\n",
              "  <tbody>\n",
              "    <tr>\n",
              "      <th>0</th>\n",
              "      <td>itching, skin_rash, nodal_skin_eruptions, disc...</td>\n",
              "      <td>Fungal infection</td>\n",
              "    </tr>\n",
              "    <tr>\n",
              "      <th>1</th>\n",
              "      <td>skin_rash, nodal_skin_eruptions, dischromic _p...</td>\n",
              "      <td>Fungal infection</td>\n",
              "    </tr>\n",
              "    <tr>\n",
              "      <th>2</th>\n",
              "      <td>itching, nodal_skin_eruptions, dischromic _pat...</td>\n",
              "      <td>Fungal infection</td>\n",
              "    </tr>\n",
              "    <tr>\n",
              "      <th>3</th>\n",
              "      <td>itching, skin_rash, dischromic _patches</td>\n",
              "      <td>Fungal infection</td>\n",
              "    </tr>\n",
              "    <tr>\n",
              "      <th>4</th>\n",
              "      <td>itching, skin_rash, nodal_skin_eruptions</td>\n",
              "      <td>Fungal infection</td>\n",
              "    </tr>\n",
              "  </tbody>\n",
              "</table>\n",
              "</div>\n",
              "    <div class=\"colab-df-buttons\">\n",
              "\n",
              "  <div class=\"colab-df-container\">\n",
              "    <button class=\"colab-df-convert\" onclick=\"convertToInteractive('df-d4ea6515-2fa9-4467-a090-0659dd192649')\"\n",
              "            title=\"Convert this dataframe to an interactive table.\"\n",
              "            style=\"display:none;\">\n",
              "\n",
              "  <svg xmlns=\"http://www.w3.org/2000/svg\" height=\"24px\" viewBox=\"0 -960 960 960\">\n",
              "    <path d=\"M120-120v-720h720v720H120Zm60-500h600v-160H180v160Zm220 220h160v-160H400v160Zm0 220h160v-160H400v160ZM180-400h160v-160H180v160Zm440 0h160v-160H620v160ZM180-180h160v-160H180v160Zm440 0h160v-160H620v160Z\"/>\n",
              "  </svg>\n",
              "    </button>\n",
              "\n",
              "  <style>\n",
              "    .colab-df-container {\n",
              "      display:flex;\n",
              "      gap: 12px;\n",
              "    }\n",
              "\n",
              "    .colab-df-convert {\n",
              "      background-color: #E8F0FE;\n",
              "      border: none;\n",
              "      border-radius: 50%;\n",
              "      cursor: pointer;\n",
              "      display: none;\n",
              "      fill: #1967D2;\n",
              "      height: 32px;\n",
              "      padding: 0 0 0 0;\n",
              "      width: 32px;\n",
              "    }\n",
              "\n",
              "    .colab-df-convert:hover {\n",
              "      background-color: #E2EBFA;\n",
              "      box-shadow: 0px 1px 2px rgba(60, 64, 67, 0.3), 0px 1px 3px 1px rgba(60, 64, 67, 0.15);\n",
              "      fill: #174EA6;\n",
              "    }\n",
              "\n",
              "    .colab-df-buttons div {\n",
              "      margin-bottom: 4px;\n",
              "    }\n",
              "\n",
              "    [theme=dark] .colab-df-convert {\n",
              "      background-color: #3B4455;\n",
              "      fill: #D2E3FC;\n",
              "    }\n",
              "\n",
              "    [theme=dark] .colab-df-convert:hover {\n",
              "      background-color: #434B5C;\n",
              "      box-shadow: 0px 1px 3px 1px rgba(0, 0, 0, 0.15);\n",
              "      filter: drop-shadow(0px 1px 2px rgba(0, 0, 0, 0.3));\n",
              "      fill: #FFFFFF;\n",
              "    }\n",
              "  </style>\n",
              "\n",
              "    <script>\n",
              "      const buttonEl =\n",
              "        document.querySelector('#df-d4ea6515-2fa9-4467-a090-0659dd192649 button.colab-df-convert');\n",
              "      buttonEl.style.display =\n",
              "        google.colab.kernel.accessAllowed ? 'block' : 'none';\n",
              "\n",
              "      async function convertToInteractive(key) {\n",
              "        const element = document.querySelector('#df-d4ea6515-2fa9-4467-a090-0659dd192649');\n",
              "        const dataTable =\n",
              "          await google.colab.kernel.invokeFunction('convertToInteractive',\n",
              "                                                    [key], {});\n",
              "        if (!dataTable) return;\n",
              "\n",
              "        const docLinkHtml = 'Like what you see? Visit the ' +\n",
              "          '<a target=\"_blank\" href=https://colab.research.google.com/notebooks/data_table.ipynb>data table notebook</a>'\n",
              "          + ' to learn more about interactive tables.';\n",
              "        element.innerHTML = '';\n",
              "        dataTable['output_type'] = 'display_data';\n",
              "        await google.colab.output.renderOutput(dataTable, element);\n",
              "        const docLink = document.createElement('div');\n",
              "        docLink.innerHTML = docLinkHtml;\n",
              "        element.appendChild(docLink);\n",
              "      }\n",
              "    </script>\n",
              "  </div>\n",
              "\n",
              "\n",
              "    <div id=\"df-bc13cdeb-a206-4d2f-bed9-1fbba24b4296\">\n",
              "      <button class=\"colab-df-quickchart\" onclick=\"quickchart('df-bc13cdeb-a206-4d2f-bed9-1fbba24b4296')\"\n",
              "                title=\"Suggest charts\"\n",
              "                style=\"display:none;\">\n",
              "\n",
              "<svg xmlns=\"http://www.w3.org/2000/svg\" height=\"24px\"viewBox=\"0 0 24 24\"\n",
              "     width=\"24px\">\n",
              "    <g>\n",
              "        <path d=\"M19 3H5c-1.1 0-2 .9-2 2v14c0 1.1.9 2 2 2h14c1.1 0 2-.9 2-2V5c0-1.1-.9-2-2-2zM9 17H7v-7h2v7zm4 0h-2V7h2v10zm4 0h-2v-4h2v4z\"/>\n",
              "    </g>\n",
              "</svg>\n",
              "      </button>\n",
              "\n",
              "<style>\n",
              "  .colab-df-quickchart {\n",
              "      --bg-color: #E8F0FE;\n",
              "      --fill-color: #1967D2;\n",
              "      --hover-bg-color: #E2EBFA;\n",
              "      --hover-fill-color: #174EA6;\n",
              "      --disabled-fill-color: #AAA;\n",
              "      --disabled-bg-color: #DDD;\n",
              "  }\n",
              "\n",
              "  [theme=dark] .colab-df-quickchart {\n",
              "      --bg-color: #3B4455;\n",
              "      --fill-color: #D2E3FC;\n",
              "      --hover-bg-color: #434B5C;\n",
              "      --hover-fill-color: #FFFFFF;\n",
              "      --disabled-bg-color: #3B4455;\n",
              "      --disabled-fill-color: #666;\n",
              "  }\n",
              "\n",
              "  .colab-df-quickchart {\n",
              "    background-color: var(--bg-color);\n",
              "    border: none;\n",
              "    border-radius: 50%;\n",
              "    cursor: pointer;\n",
              "    display: none;\n",
              "    fill: var(--fill-color);\n",
              "    height: 32px;\n",
              "    padding: 0;\n",
              "    width: 32px;\n",
              "  }\n",
              "\n",
              "  .colab-df-quickchart:hover {\n",
              "    background-color: var(--hover-bg-color);\n",
              "    box-shadow: 0 1px 2px rgba(60, 64, 67, 0.3), 0 1px 3px 1px rgba(60, 64, 67, 0.15);\n",
              "    fill: var(--button-hover-fill-color);\n",
              "  }\n",
              "\n",
              "  .colab-df-quickchart-complete:disabled,\n",
              "  .colab-df-quickchart-complete:disabled:hover {\n",
              "    background-color: var(--disabled-bg-color);\n",
              "    fill: var(--disabled-fill-color);\n",
              "    box-shadow: none;\n",
              "  }\n",
              "\n",
              "  .colab-df-spinner {\n",
              "    border: 2px solid var(--fill-color);\n",
              "    border-color: transparent;\n",
              "    border-bottom-color: var(--fill-color);\n",
              "    animation:\n",
              "      spin 1s steps(1) infinite;\n",
              "  }\n",
              "\n",
              "  @keyframes spin {\n",
              "    0% {\n",
              "      border-color: transparent;\n",
              "      border-bottom-color: var(--fill-color);\n",
              "      border-left-color: var(--fill-color);\n",
              "    }\n",
              "    20% {\n",
              "      border-color: transparent;\n",
              "      border-left-color: var(--fill-color);\n",
              "      border-top-color: var(--fill-color);\n",
              "    }\n",
              "    30% {\n",
              "      border-color: transparent;\n",
              "      border-left-color: var(--fill-color);\n",
              "      border-top-color: var(--fill-color);\n",
              "      border-right-color: var(--fill-color);\n",
              "    }\n",
              "    40% {\n",
              "      border-color: transparent;\n",
              "      border-right-color: var(--fill-color);\n",
              "      border-top-color: var(--fill-color);\n",
              "    }\n",
              "    60% {\n",
              "      border-color: transparent;\n",
              "      border-right-color: var(--fill-color);\n",
              "    }\n",
              "    80% {\n",
              "      border-color: transparent;\n",
              "      border-right-color: var(--fill-color);\n",
              "      border-bottom-color: var(--fill-color);\n",
              "    }\n",
              "    90% {\n",
              "      border-color: transparent;\n",
              "      border-bottom-color: var(--fill-color);\n",
              "    }\n",
              "  }\n",
              "</style>\n",
              "\n",
              "      <script>\n",
              "        async function quickchart(key) {\n",
              "          const quickchartButtonEl =\n",
              "            document.querySelector('#' + key + ' button');\n",
              "          quickchartButtonEl.disabled = true;  // To prevent multiple clicks.\n",
              "          quickchartButtonEl.classList.add('colab-df-spinner');\n",
              "          try {\n",
              "            const charts = await google.colab.kernel.invokeFunction(\n",
              "                'suggestCharts', [key], {});\n",
              "          } catch (error) {\n",
              "            console.error('Error during call to suggestCharts:', error);\n",
              "          }\n",
              "          quickchartButtonEl.classList.remove('colab-df-spinner');\n",
              "          quickchartButtonEl.classList.add('colab-df-quickchart-complete');\n",
              "        }\n",
              "        (() => {\n",
              "          let quickchartButtonEl =\n",
              "            document.querySelector('#df-bc13cdeb-a206-4d2f-bed9-1fbba24b4296 button');\n",
              "          quickchartButtonEl.style.display =\n",
              "            google.colab.kernel.accessAllowed ? 'block' : 'none';\n",
              "        })();\n",
              "      </script>\n",
              "    </div>\n",
              "\n",
              "    </div>\n",
              "  </div>\n"
            ],
            "application/vnd.google.colaboratory.intrinsic+json": {
              "type": "dataframe",
              "variable_name": "df",
              "summary": "{\n  \"name\": \"df\",\n  \"rows\": 4920,\n  \"fields\": [\n    {\n      \"column\": \"symptom_text\",\n      \"properties\": {\n        \"dtype\": \"category\",\n        \"num_unique_values\": 304,\n        \"samples\": [\n          \"joint_pain, vomiting, fatigue, high_fever, yellowish_skin, dark_urine, loss_of_appetite, abdominal_pain, yellowing_of_eyes, acute_liver_failure, coma, stomach_bleeding\",\n          \"itching, fatigue, lethargy, yellowish_skin, dark_urine, loss_of_appetite, abdominal_pain, yellowing_of_eyes, malaise, receiving_blood_transfusion, receiving_unsterile_injections\",\n          \"itching, skin_rash, lethargy, high_fever, headache, loss_of_appetite, mild_fever, swelled_lymph_nodes, malaise, red_spots_over_body\"\n        ],\n        \"semantic_type\": \"\",\n        \"description\": \"\"\n      }\n    },\n    {\n      \"column\": \"disease\",\n      \"properties\": {\n        \"dtype\": \"category\",\n        \"num_unique_values\": 41,\n        \"samples\": [\n          \"Alcoholic hepatitis\",\n          \"Paralysis (brain hemorrhage)\",\n          \"Gastroenteritis\"\n        ],\n        \"semantic_type\": \"\",\n        \"description\": \"\"\n      }\n    }\n  ]\n}"
            }
          },
          "metadata": {},
          "execution_count": 17
        }
      ]
    },
    {
      "cell_type": "code",
      "source": [
        "# Split data\n",
        "X = df['symptom_text']\n",
        "y = df['disease']\n",
        "\n",
        "from sklearn.preprocessing import LabelEncoder\n",
        "from tensorflow.keras.utils import to_categorical\n",
        "from sklearn.model_selection import train_test_split\n",
        "from sklearn.feature_extraction.text import TfidfVectorizer\n",
        "\n",
        "# Encode labels\n",
        "label_encoder = LabelEncoder()\n",
        "y_encoded = label_encoder.fit_transform(y)\n",
        "y_categorical = to_categorical(y_encoded)\n",
        "\n",
        "# Update train-test split\n",
        "X_train, X_test, y_train_enc, y_test_enc = train_test_split(X, y_encoded, test_size=0.2, random_state=42)\n",
        "y_train_cat = to_categorical(y_train_enc)\n",
        "y_test_cat = to_categorical(y_test_enc)\n",
        "\n",
        "\n"
      ],
      "metadata": {
        "id": "Uic9YldZENW0"
      },
      "execution_count": 18,
      "outputs": []
    },
    {
      "cell_type": "code",
      "source": [
        "vectorizer = TfidfVectorizer()\n",
        "X_train_tfidf = vectorizer.fit_transform(X_train)\n",
        "X_test_tfidf = vectorizer.transform(X_test)\n"
      ],
      "metadata": {
        "id": "fhrcIPYZMc2A"
      },
      "execution_count": 19,
      "outputs": []
    },
    {
      "cell_type": "code",
      "source": [
        "from tensorflow.keras.models import Sequential\n",
        "from tensorflow.keras.layers import Dense, Dropout\n",
        "\n",
        "model = Sequential([\n",
        "    Dense(128, activation='relu', input_shape=(X_train_tfidf.shape[1],)),\n",
        "    Dropout(0.3),\n",
        "    Dense(64, activation='relu'),\n",
        "    Dropout(0.3),\n",
        "    Dense(len(label_encoder.classes_), activation='softmax')\n",
        "])\n",
        "\n",
        "model.compile(optimizer='adam', loss='categorical_crossentropy', metrics=['accuracy'])\n"
      ],
      "metadata": {
        "colab": {
          "base_uri": "https://localhost:8080/"
        },
        "id": "pyz80c9zMeYf",
        "outputId": "8d9bd616-b131-44ba-989c-523f5861a655"
      },
      "execution_count": 20,
      "outputs": [
        {
          "output_type": "stream",
          "name": "stderr",
          "text": [
            "/usr/local/lib/python3.11/dist-packages/keras/src/layers/core/dense.py:87: UserWarning: Do not pass an `input_shape`/`input_dim` argument to a layer. When using Sequential models, prefer using an `Input(shape)` object as the first layer in the model instead.\n",
            "  super().__init__(activity_regularizer=activity_regularizer, **kwargs)\n"
          ]
        }
      ]
    },
    {
      "cell_type": "code",
      "source": [
        "model.fit(X_train_tfidf.toarray(), y_train_cat,\n",
        "          validation_split=0.1, epochs=10, batch_size=32)\n"
      ],
      "metadata": {
        "colab": {
          "base_uri": "https://localhost:8080/"
        },
        "id": "jfV_9YihMh__",
        "outputId": "7a6feabd-8771-4649-a7ee-2d6aedf4b15d"
      },
      "execution_count": 21,
      "outputs": [
        {
          "output_type": "stream",
          "name": "stdout",
          "text": [
            "Epoch 1/10\n",
            "\u001b[1m111/111\u001b[0m \u001b[32m━━━━━━━━━━━━━━━━━━━━\u001b[0m\u001b[37m\u001b[0m \u001b[1m3s\u001b[0m 9ms/step - accuracy: 0.2597 - loss: 3.5059 - val_accuracy: 0.9695 - val_loss: 1.8782\n",
            "Epoch 2/10\n",
            "\u001b[1m111/111\u001b[0m \u001b[32m━━━━━━━━━━━━━━━━━━━━\u001b[0m\u001b[37m\u001b[0m \u001b[1m1s\u001b[0m 6ms/step - accuracy: 0.8944 - loss: 1.3993 - val_accuracy: 1.0000 - val_loss: 0.1416\n",
            "Epoch 3/10\n",
            "\u001b[1m111/111\u001b[0m \u001b[32m━━━━━━━━━━━━━━━━━━━━\u001b[0m\u001b[37m\u001b[0m \u001b[1m1s\u001b[0m 7ms/step - accuracy: 0.9775 - loss: 0.2874 - val_accuracy: 1.0000 - val_loss: 0.0298\n",
            "Epoch 4/10\n",
            "\u001b[1m111/111\u001b[0m \u001b[32m━━━━━━━━━━━━━━━━━━━━\u001b[0m\u001b[37m\u001b[0m \u001b[1m1s\u001b[0m 7ms/step - accuracy: 0.9873 - loss: 0.1302 - val_accuracy: 1.0000 - val_loss: 0.0104\n",
            "Epoch 5/10\n",
            "\u001b[1m111/111\u001b[0m \u001b[32m━━━━━━━━━━━━━━━━━━━━\u001b[0m\u001b[37m\u001b[0m \u001b[1m1s\u001b[0m 7ms/step - accuracy: 0.9939 - loss: 0.0773 - val_accuracy: 1.0000 - val_loss: 0.0050\n",
            "Epoch 6/10\n",
            "\u001b[1m111/111\u001b[0m \u001b[32m━━━━━━━━━━━━━━━━━━━━\u001b[0m\u001b[37m\u001b[0m \u001b[1m1s\u001b[0m 4ms/step - accuracy: 0.9956 - loss: 0.0581 - val_accuracy: 1.0000 - val_loss: 0.0027\n",
            "Epoch 7/10\n",
            "\u001b[1m111/111\u001b[0m \u001b[32m━━━━━━━━━━━━━━━━━━━━\u001b[0m\u001b[37m\u001b[0m \u001b[1m1s\u001b[0m 4ms/step - accuracy: 0.9964 - loss: 0.0431 - val_accuracy: 1.0000 - val_loss: 0.0015\n",
            "Epoch 8/10\n",
            "\u001b[1m111/111\u001b[0m \u001b[32m━━━━━━━━━━━━━━━━━━━━\u001b[0m\u001b[37m\u001b[0m \u001b[1m1s\u001b[0m 4ms/step - accuracy: 0.9981 - loss: 0.0285 - val_accuracy: 1.0000 - val_loss: 9.4896e-04\n",
            "Epoch 9/10\n",
            "\u001b[1m111/111\u001b[0m \u001b[32m━━━━━━━━━━━━━━━━━━━━\u001b[0m\u001b[37m\u001b[0m \u001b[1m1s\u001b[0m 4ms/step - accuracy: 0.9994 - loss: 0.0250 - val_accuracy: 1.0000 - val_loss: 6.7702e-04\n",
            "Epoch 10/10\n",
            "\u001b[1m111/111\u001b[0m \u001b[32m━━━━━━━━━━━━━━━━━━━━\u001b[0m\u001b[37m\u001b[0m \u001b[1m1s\u001b[0m 4ms/step - accuracy: 0.9981 - loss: 0.0218 - val_accuracy: 1.0000 - val_loss: 4.1412e-04\n"
          ]
        },
        {
          "output_type": "execute_result",
          "data": {
            "text/plain": [
              "<keras.src.callbacks.history.History at 0x7d1c1e1337d0>"
            ]
          },
          "metadata": {},
          "execution_count": 21
        }
      ]
    },
    {
      "cell_type": "code",
      "source": [
        "loss, accuracy = model.evaluate(X_test_tfidf.toarray(), y_test_cat)\n",
        "print(\"Test Accuracy:\", accuracy)\n"
      ],
      "metadata": {
        "colab": {
          "base_uri": "https://localhost:8080/"
        },
        "id": "U1Z_-of9Mmqp",
        "outputId": "b04198b8-f691-4e93-b772-22f1bfe00035"
      },
      "execution_count": 22,
      "outputs": [
        {
          "output_type": "stream",
          "name": "stdout",
          "text": [
            "\u001b[1m31/31\u001b[0m \u001b[32m━━━━━━━━━━━━━━━━━━━━\u001b[0m\u001b[37m\u001b[0m \u001b[1m0s\u001b[0m 3ms/step - accuracy: 1.0000 - loss: 4.4061e-04\n",
            "Test Accuracy: 1.0\n"
          ]
        }
      ]
    },
    {
      "cell_type": "code",
      "source": [
        "def predict_disease_neural(text):\n",
        "    vec = vectorizer.transform([text])\n",
        "    prediction = model.predict(vec.toarray())\n",
        "    class_idx = prediction.argmax(axis=1)[0]\n",
        "    return label_encoder.inverse_transform([class_idx])[0]\n",
        "\n",
        "# Example\n",
        "print(predict_disease_neural(\"fever, chills, joint pain\"))\n"
      ],
      "metadata": {
        "colab": {
          "base_uri": "https://localhost:8080/"
        },
        "id": "4er6SywwMo-a",
        "outputId": "48d6e058-6c36-45f8-e0c3-0278246298e5"
      },
      "execution_count": 23,
      "outputs": [
        {
          "output_type": "stream",
          "name": "stdout",
          "text": [
            "\u001b[1m1/1\u001b[0m \u001b[32m━━━━━━━━━━━━━━━━━━━━\u001b[0m\u001b[37m\u001b[0m \u001b[1m0s\u001b[0m 78ms/step\n",
            "Malaria\n"
          ]
        }
      ]
    },
    {
      "cell_type": "code",
      "source": [
        "# Example input\n",
        "input_symptom_text = \"itching, skin rash, nodal skin eruptions\"\n",
        "\n",
        "# Vectorize input\n",
        "input_vec = vectorizer.transform([input_symptom_text])\n",
        "\n",
        "# Predict using the trained model\n",
        "prediction = model.predict(input_vec.toarray())\n",
        "predicted_class_index = prediction.argmax(axis=1)[0]\n",
        "\n",
        "# Convert to actual disease name\n",
        "predicted_disease = label_encoder.inverse_transform([predicted_class_index])[0]\n"
      ],
      "metadata": {
        "colab": {
          "base_uri": "https://localhost:8080/"
        },
        "id": "vkrvE-pJrLKH",
        "outputId": "0bd914e4-3236-4532-9266-0d64f43769b3"
      },
      "execution_count": 24,
      "outputs": [
        {
          "output_type": "stream",
          "name": "stdout",
          "text": [
            "\u001b[1m1/1\u001b[0m \u001b[32m━━━━━━━━━━━━━━━━━━━━\u001b[0m\u001b[37m\u001b[0m \u001b[1m0s\u001b[0m 38ms/step\n"
          ]
        }
      ]
    },
    {
      "cell_type": "code",
      "source": [
        "import pandas as pd\n",
        "\n",
        "desc_df = pd.read_csv(\"/content/drive/MyDrive/symptom_checker_project/data/symptom_Description.csv\")\n"
      ],
      "metadata": {
        "id": "v57l-6pAp532"
      },
      "execution_count": 25,
      "outputs": []
    },
    {
      "cell_type": "code",
      "source": [
        "desc_df['Disease'] = desc_df['Disease'].str.lower().str.strip()\n",
        "desc_df['Description'] = desc_df['Description'].str.strip()\n",
        "predicted_disease = predicted_disease.lower().strip()\n",
        "desc_dict = dict(zip(desc_df['Disease'], desc_df['Description']))\n",
        "description = desc_dict.get(predicted_disease, \"Description not available.\")\n",
        "# print(\"Predicted Disease:\", predicted_disease)\n",
        "# print(\"Description:\", description)\n"
      ],
      "metadata": {
        "id": "0jBMCxosqN0F"
      },
      "execution_count": 26,
      "outputs": []
    },
    {
      "cell_type": "code",
      "source": [
        "precaution_df = pd.read_csv(\"/content/drive/MyDrive/symptom_checker_project/data/symptom_precaution.csv\")\n",
        "\n",
        "# Standardize the 'Disease' column\n",
        "precaution_df['Disease'] = precaution_df['Disease'].str.lower().str.strip()\n",
        "# Combine all precaution columns into a list per row\n",
        "precaution_df['Precautions'] = precaution_df.iloc[:, 1:].apply(lambda row: [prec for prec in row if pd.notna(prec)], axis=1)\n",
        "\n",
        "# Create dictionary\n",
        "precaution_dict = dict(zip(precaution_df['Disease'], precaution_df['Precautions']))\n",
        "precautions = precaution_dict.get(predicted_disease, [\"No precautions available.\"])\n",
        "\n",
        "\n",
        "\n",
        "\n"
      ],
      "metadata": {
        "id": "oKE1Egbkr_CX"
      },
      "execution_count": 27,
      "outputs": []
    },
    {
      "cell_type": "code",
      "source": [
        "# Standardize predicted disease\n",
        "predicted_disease = predicted_disease.lower().strip()\n",
        "\n",
        "# Get description\n",
        "description = desc_dict.get(predicted_disease, \"Description not available.\")\n",
        "\n",
        "# Get precautions\n",
        "precautions = precaution_dict.get(predicted_disease, [\"No precautions available.\"])\n",
        "\n",
        "# Print output\n",
        "print(f\"🦠 Predicted Disease: {predicted_disease.title()}\")\n",
        "print(f\"📘 Description: {description}\")\n",
        "print(\"🛡️ Precautions:\")\n",
        "for i, p in enumerate(precautions, 1):\n",
        "    print(f\"{i}. {p}\")\n"
      ],
      "metadata": {
        "colab": {
          "base_uri": "https://localhost:8080/"
        },
        "id": "BEuMbzOSsqKp",
        "outputId": "2a87ea44-8eb4-48e7-940c-23e5109390a8"
      },
      "execution_count": 28,
      "outputs": [
        {
          "output_type": "stream",
          "name": "stdout",
          "text": [
            "🦠 Predicted Disease: Chronic Cholestasis\n",
            "📘 Description: Chronic cholestatic diseases, whether occurring in infancy, childhood or adulthood, are characterized by defective bile acid transport from the liver to the intestine, which is caused by primary damage to the biliary epithelium in most cases\n",
            "🛡️ Precautions:\n",
            "1. cold baths\n",
            "2. anti itch medicine\n",
            "3. consult doctor\n",
            "4. eat healthy\n"
          ]
        }
      ]
    },
    {
      "cell_type": "code",
      "source": [
        "import os\n",
        "\n",
        "# Define your project path\n",
        "project_dir = \"/content/drive/MyDrive/symptom_checker_project/models\"\n",
        "\n",
        "# Create directory if it doesn't exist\n",
        "os.makedirs(project_dir, exist_ok=True)\n",
        "model_path = os.path.join(project_dir, \"symptom_diagnosis_model_keras.h5\")\n",
        "model.save(model_path)\n",
        "import pickle\n",
        "\n",
        "# Save vectorizer\n",
        "with open(os.path.join(project_dir, \"vectorizer.pkl\"), \"wb\") as f:\n",
        "    pickle.dump(vectorizer, f)\n",
        "\n",
        "# Save label encoder\n",
        "with open(os.path.join(project_dir, \"label_encoder.pkl\"), \"wb\") as f:\n",
        "    pickle.dump(label_encoder, f)\n",
        "\n"
      ],
      "metadata": {
        "id": "LSmzekUcuSbe",
        "outputId": "0cddbb44-0e8d-4372-fa3c-33b6312bfb3a",
        "colab": {
          "base_uri": "https://localhost:8080/"
        }
      },
      "execution_count": 29,
      "outputs": [
        {
          "output_type": "stream",
          "name": "stderr",
          "text": [
            "WARNING:absl:You are saving your model as an HDF5 file via `model.save()` or `keras.saving.save_model(model)`. This file format is considered legacy. We recommend using instead the native Keras format, e.g. `model.save('my_model.keras')` or `keras.saving.save_model(model, 'my_model.keras')`. \n"
          ]
        }
      ]
    }
  ]
}